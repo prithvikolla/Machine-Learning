{
  "nbformat": 4,
  "nbformat_minor": 0,
  "metadata": {
    "colab": {
      "name": "Biased News Channels.ipynb",
      "provenance": [],
      "authorship_tag": "ABX9TyOcJ4bJ9tvqjlibZb6OIqwK",
      "include_colab_link": true
    },
    "kernelspec": {
      "name": "python3",
      "display_name": "Python 3"
    },
    "language_info": {
      "name": "python"
    }
  },
  "cells": [
    {
      "cell_type": "markdown",
      "metadata": {
        "id": "view-in-github",
        "colab_type": "text"
      },
      "source": [
        "<a href=\"https://colab.research.google.com/github/prithvikolla/Machine-Learning/blob/master/Biased_News_Channels.ipynb\" target=\"_parent\"><img src=\"https://colab.research.google.com/assets/colab-badge.svg\" alt=\"Open In Colab\"/></a>"
      ]
    },
    {
      "cell_type": "markdown",
      "source": [
        "Project Title: Detecting Biased News \n",
        "Hypothesis: A News Channel is Biased based on the Region it is associated or funded from."
      ],
      "metadata": {
        "id": "KbonwqVgHjOL"
      }
    },
    {
      "cell_type": "code",
      "execution_count": 2,
      "metadata": {
        "id": "fSibBDiWHWf0"
      },
      "outputs": [],
      "source": [
        " #Step 1: Web Scraping a given article From News Articles  "
      ]
    },
    {
      "cell_type": "code",
      "source": [
        "from textblob import TextBlob\n",
        "import re\n",
        "\n",
        "testimonial = \"Germany, France and Poland are united in working to keep the peace in Europe in the face of the Ukraine crisis, German Chancellor Olaf Scholz said on Tuesday when attending a summit in Berlin of the Weimar Triangle group, formed 31 years ago after the end of the Cold War to help deal with the challenges now facing Europe. We are united by the goal of maintaining peace in Europe through diplomacy and clear messages and the shared will to act in unison, Scholz, flanked by French President Emmanuel Macron and Polish President Andrzej Duda, told reporters before the summit. Our common goal is to prevent a war in Europe, Scholz added. The new German chancellor visited Washington and met U.S. President Joe Biden on Monday. He is scheduled to visit both Russia and Ukraine next week. Arriving in Berlin after two days of talks that took him to Kyiv and Moscow, Macron Tuesday urged continued firm dialogue with Russia as the only way to defuse the tension. The French leader, who on Monday had a five-hour meeting with Vladimir Putin, said the Russian president had told him that Russia would not be the source of an escalation.The Polish leader said he believed that war could still be averted. We have to find a solution to avoid war, said Duda. As I've said, this is currently our main task. I believe that we will achieve it. In my opinion, what's most important today is unity and solidarity. The leaders of France, Germany and Poland expressed their joint support for Ukrainian sovereignty, the French presidency said in a statement late on Tuesday.Three leaders also expressed their joint support for the implementation of the Minsk ceasefire agreement, the French presidency said.The meeting further illustrated the European convergence on a committed and demanding approach toward Russia, the French presidency said.\"\n",
        "\n",
        "testimonial = re.sub(r'[^\\w\\s]','',testimonial)\n",
        "\n",
        "#print(testimonial.sentiment)"
      ],
      "metadata": {
        "id": "q3tOJ_NrIwHD"
      },
      "execution_count": 5,
      "outputs": []
    },
    {
      "cell_type": "code",
      "source": [
        "testimonial"
      ],
      "metadata": {
        "colab": {
          "base_uri": "https://localhost:8080/",
          "height": 273
        },
        "id": "un_Tm8WNUCiF",
        "outputId": "cf4b3a10-e206-4186-cf83-2a533ff0d72f"
      },
      "execution_count": 6,
      "outputs": [
        {
          "output_type": "execute_result",
          "data": {
            "application/vnd.google.colaboratory.intrinsic+json": {
              "type": "string"
            },
            "text/plain": [
              "'Germany France and Poland are united in working to keep the peace in Europe in the face of the Ukraine crisis German Chancellor Olaf Scholz said on Tuesday when attending a summit in Berlin of the Weimar Triangle group formed 31 years ago after the end of the Cold War to help deal with the challenges now facing Europe We are united by the goal of maintaining peace in Europe through diplomacy and clear messages and the shared will to act in unison Scholz flanked by French President Emmanuel Macron and Polish President Andrzej Duda told reporters before the summit Our common goal is to prevent a war in Europe Scholz added The new German chancellor visited Washington and met US President Joe Biden on Monday He is scheduled to visit both Russia and Ukraine next week Arriving in Berlin after two days of talks that took him to Kyiv and Moscow Macron Tuesday urged continued firm dialogue with Russia as the only way to defuse the tension The French leader who on Monday had a fivehour meeting with Vladimir Putin said the Russian president had told him that Russia would not be the source of an escalationThe Polish leader said he believed that war could still be averted We have to find a solution to avoid war said Duda As Ive said this is currently our main task I believe that we will achieve it In my opinion whats most important today is unity and solidarity The leaders of France Germany and Poland expressed their joint support for Ukrainian sovereignty the French presidency said in a statement late on TuesdayThree leaders also expressed their joint support for the implementation of the Minsk ceasefire agreement the French presidency saidThe meeting further illustrated the European convergence on a committed and demanding approach toward Russia the French presidency said'"
            ]
          },
          "metadata": {},
          "execution_count": 6
        }
      ]
    },
    {
      "cell_type": "code",
      "source": [
        "testimonal = TextBlob(testimonial)"
      ],
      "metadata": {
        "id": "BH3iNX4QVI8p"
      },
      "execution_count": 10,
      "outputs": []
    },
    {
      "cell_type": "code",
      "source": [
        "print(testimonial.sentiment)"
      ],
      "metadata": {
        "colab": {
          "base_uri": "https://localhost:8080/",
          "height": 171
        },
        "id": "3EPb_SweVTz0",
        "outputId": "31c80be8-1965-4b08-c04e-3583ec214bc1"
      },
      "execution_count": 11,
      "outputs": [
        {
          "output_type": "error",
          "ename": "AttributeError",
          "evalue": "ignored",
          "traceback": [
            "\u001b[0;31m---------------------------------------------------------------------------\u001b[0m",
            "\u001b[0;31mAttributeError\u001b[0m                            Traceback (most recent call last)",
            "\u001b[0;32m<ipython-input-11-42c37db9bb90>\u001b[0m in \u001b[0;36m<module>\u001b[0;34m()\u001b[0m\n\u001b[0;32m----> 1\u001b[0;31m \u001b[0mprint\u001b[0m\u001b[0;34m(\u001b[0m\u001b[0mtestimonial\u001b[0m\u001b[0;34m.\u001b[0m\u001b[0msentiment\u001b[0m\u001b[0;34m)\u001b[0m\u001b[0;34m\u001b[0m\u001b[0;34m\u001b[0m\u001b[0m\n\u001b[0m",
            "\u001b[0;31mAttributeError\u001b[0m: 'str' object has no attribute 'sentiment'"
          ]
        }
      ]
    },
    {
      "cell_type": "code",
      "source": [
        "test = TextBlob(\"Germany France and Poland are united in working to keep the peace in Europe in the face of the Ukraine crisis German Chancellor Olaf Scholz said on Tuesday when attending a summit in Berlin of the Weimar Triangle group formed 31 years ago after the end of the Cold War to help deal with the challenges now facing Europe We are united by the goal of maintaining peace in Europe through diplomacy and clear messages and the shared will to act in unison Scholz flanked by French President Emmanuel Macron and Polish President Andrzej Duda told reporters before the summit Our common goal is to prevent a war in Europe Scholz added The new German chancellor visited Washington and met US President Joe Biden on Monday He is scheduled to visit both Russia and Ukraine next week Arriving in Berlin after two days of talks that took him to Kyiv and Moscow Macron Tuesday urged continued firm dialogue with Russia as the only way to defuse the tension The French leader who on Monday had a fivehour meeting with Vladimir Putin said the Russian president had told him that Russia would not be the source of an escalationThe Polish leader said he believed that war could still be averted We have to find a solution to avoid war said Duda As Ive said this is currently our main task I believe that we will achieve it In my opinion whats most important today is unity and solidarity The leaders of France Germany and Poland expressed their joint support for Ukrainian sovereignty the French presidency said in a statement late on TuesdayThree leaders also expressed their joint support for the implementation of the Minsk ceasefire agreement the French presidency saidThe meeting further illustrated the European convergence on a committed and demanding approach toward Russia the French presidency said\")\n",
        "print(test.sentiment)"
      ],
      "metadata": {
        "colab": {
          "base_uri": "https://localhost:8080/"
        },
        "id": "1koCBw8dVjU0",
        "outputId": "9672078a-85ed-48b0-eb35-9b1f7cd634e4"
      },
      "execution_count": 15,
      "outputs": [
        {
          "output_type": "stream",
          "name": "stdout",
          "text": [
            "Sentiment(polarity=-0.004407713498622585, subjectivity=0.3214187327823691)\n"
          ]
        }
      ]
    },
    {
      "cell_type": "code",
      "source": [
        "testimonial.dtype"
      ],
      "metadata": {
        "colab": {
          "base_uri": "https://localhost:8080/",
          "height": 171
        },
        "id": "OCu36b9fWBW0",
        "outputId": "89528986-8ae7-4ae6-c971-71cc4899498b"
      },
      "execution_count": 14,
      "outputs": [
        {
          "output_type": "error",
          "ename": "AttributeError",
          "evalue": "ignored",
          "traceback": [
            "\u001b[0;31m---------------------------------------------------------------------------\u001b[0m",
            "\u001b[0;31mAttributeError\u001b[0m                            Traceback (most recent call last)",
            "\u001b[0;32m<ipython-input-14-9b7fde098e32>\u001b[0m in \u001b[0;36m<module>\u001b[0;34m()\u001b[0m\n\u001b[0;32m----> 1\u001b[0;31m \u001b[0mtestimonial\u001b[0m\u001b[0;34m.\u001b[0m\u001b[0mdtype\u001b[0m\u001b[0;34m\u001b[0m\u001b[0;34m\u001b[0m\u001b[0m\n\u001b[0m",
            "\u001b[0;31mAttributeError\u001b[0m: 'str' object has no attribute 'dtype'"
          ]
        }
      ]
    },
    {
      "cell_type": "code",
      "source": [
        ""
      ],
      "metadata": {
        "id": "AhjtiPOqWFsB"
      },
      "execution_count": null,
      "outputs": []
    }
  ]
}